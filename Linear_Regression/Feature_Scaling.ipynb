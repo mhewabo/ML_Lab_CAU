{
 "cells": [
  {
   "cell_type": "code",
   "execution_count": 7,
   "id": "7e745030",
   "metadata": {},
   "outputs": [],
   "source": [
    "import numpy as np\n",
    "data = np.array([[83, 1.388], \n",
    "                 [52, 1.3], \n",
    "                 [-34, 1.675], \n",
    "                 [-36, 1.243], \n",
    "                 [4, 1.403], \n",
    "                 [101, 1.41], \n",
    "                 [-53, 1.08], \n",
    "                 [10, 1.224]])"
   ]
  },
  {
   "cell_type": "code",
   "execution_count": 8,
   "id": "b7f9e84e",
   "metadata": {},
   "outputs": [
    {
     "data": {
      "text/plain": [
       "array([[0.88311688, 0.51764706],\n",
       "       [0.68181818, 0.3697479 ],\n",
       "       [0.12337662, 1.        ],\n",
       "       [0.11038961, 0.27394958],\n",
       "       [0.37012987, 0.54285714],\n",
       "       [1.        , 0.55462185],\n",
       "       [0.        , 0.        ],\n",
       "       [0.40909091, 0.24201681]])"
      ]
     },
     "execution_count": 8,
     "metadata": {},
     "output_type": "execute_result"
    }
   ],
   "source": [
    "from sklearn.preprocessing import MinMaxScaler\n",
    "scaler = MinMaxScaler()\n",
    "scaled_data = scaler.fit_transform(data)\n",
    "scaled_data"
   ]
  },
  {
   "cell_type": "code",
   "execution_count": 6,
   "id": "771e23e1",
   "metadata": {},
   "outputs": [
    {
     "data": {
      "text/plain": [
       "array([[ 1.24769396,  0.29019823],\n",
       "       [ 0.67147775, -0.24602107],\n",
       "       [-0.92705752,  2.03900439],\n",
       "       [-0.96423276, -0.59334495],\n",
       "       [-0.22072798,  0.38159925],\n",
       "       [ 1.58227111,  0.42425306],\n",
       "       [-1.28022229, -1.58656935],\n",
       "       [-0.10920226, -0.70911957]])"
      ]
     },
     "execution_count": 6,
     "metadata": {},
     "output_type": "execute_result"
    }
   ],
   "source": [
    "from sklearn.preprocessing import StandardScaler\n",
    "scaler = StandardScaler()\n",
    "scaled_data = scaler.fit_transform(data)\n",
    "scaled_data"
   ]
  },
  {
   "cell_type": "code",
   "execution_count": null,
   "id": "384603e6",
   "metadata": {},
   "outputs": [],
   "source": []
  }
 ],
 "metadata": {
  "kernelspec": {
   "display_name": "Python 3 (ipykernel)",
   "language": "python",
   "name": "python3"
  },
  "language_info": {
   "codemirror_mode": {
    "name": "ipython",
    "version": 3
   },
   "file_extension": ".py",
   "mimetype": "text/x-python",
   "name": "python",
   "nbconvert_exporter": "python",
   "pygments_lexer": "ipython3",
   "version": "3.9.12"
  }
 },
 "nbformat": 4,
 "nbformat_minor": 5
}
